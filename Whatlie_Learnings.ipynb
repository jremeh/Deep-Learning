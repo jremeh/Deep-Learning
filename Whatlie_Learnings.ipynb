{
  "nbformat": 4,
  "nbformat_minor": 0,
  "metadata": {
    "colab": {
      "name": "Whatlie Learnings.ipynb",
      "provenance": [],
      "authorship_tag": "ABX9TyPOGoJC4RtWFjSa0p99ghbN",
      "include_colab_link": true
    },
    "kernelspec": {
      "name": "python3",
      "display_name": "Python 3"
    }
  },
  "cells": [
    {
      "cell_type": "markdown",
      "metadata": {
        "id": "view-in-github",
        "colab_type": "text"
      },
      "source": [
        "<a href=\"https://colab.research.google.com/github/jremeh/NLP/blob/master/Whatlie_Learnings.ipynb\" target=\"_parent\"><img src=\"https://colab.research.google.com/assets/colab-badge.svg\" alt=\"Open In Colab\"/></a>"
      ]
    },
    {
      "cell_type": "markdown",
      "metadata": {
        "id": "Y-sx-mAF5ieF",
        "colab_type": "text"
      },
      "source": [
        "References: \n",
        "- [Whatlies Github](https://github.com/RasaHQ/whatlies/blob/master)\n",
        "- [Youtube](https://www.youtube.com/watch?v=FwkwC7IJWO0&list=PL75e0qA87dlG-za8eLI6t0_Pbxafk-cxb&index=9&t=0s)"
      ]
    },
    {
      "cell_type": "code",
      "metadata": {
        "id": "FSKZ8G510a1K",
        "colab_type": "code",
        "colab": {}
      },
      "source": [
        "!pip install whatlies"
      ],
      "execution_count": null,
      "outputs": []
    },
    {
      "cell_type": "code",
      "metadata": {
        "id": "OFof5JW00gCh",
        "colab_type": "code",
        "colab": {}
      },
      "source": [
        "from whatlies import Embedding"
      ],
      "execution_count": 2,
      "outputs": []
    },
    {
      "cell_type": "code",
      "metadata": {
        "id": "-t4jopxG0h1H",
        "colab_type": "code",
        "colab": {}
      },
      "source": [
        "man = Embedding(\"man\", [0.5, 0.1])\n",
        "woman = Embedding(\"woman\", [0.5, 0.6])\n",
        "king = Embedding(\"king\", [0.7, 0.33])\n",
        "queen = Embedding(\"queen\", [0.7, 0.9])"
      ],
      "execution_count": 3,
      "outputs": []
    },
    {
      "cell_type": "code",
      "metadata": {
        "id": "VDObxnbo0j1F",
        "colab_type": "code",
        "colab": {
          "base_uri": "https://localhost:8080/",
          "height": 34
        },
        "outputId": "83bac7ed-fd36-4bd5-9709-5e49b3177bc1"
      },
      "source": [
        "(man | (queen - king)).vector"
      ],
      "execution_count": 4,
      "outputs": [
        {
          "output_type": "execute_result",
          "data": {
            "text/plain": [
              "array([0.5, 0. ])"
            ]
          },
          "metadata": {
            "tags": []
          },
          "execution_count": 4
        }
      ]
    },
    {
      "cell_type": "markdown",
      "metadata": {
        "id": "5iL86be90oTI",
        "colab_type": "text"
      },
      "source": [
        "Creating the Vizualisation"
      ]
    },
    {
      "cell_type": "code",
      "metadata": {
        "id": "Julyqhx10mNp",
        "colab_type": "code",
        "colab": {}
      },
      "source": [
        "import matplotlib.pylab as plt"
      ],
      "execution_count": 5,
      "outputs": []
    },
    {
      "cell_type": "code",
      "metadata": {
        "id": "cQAMKiOZ0qS3",
        "colab_type": "code",
        "colab": {
          "base_uri": "https://localhost:8080/",
          "height": 405
        },
        "outputId": "7f679655-57bc-466d-d492-c07551ee061f"
      },
      "source": [
        "plt.figure(figsize=(6,6))\n",
        "\n",
        "man.plot(kind=\"arrow\", color=\"blue\")\n",
        "woman.plot(kind=\"arrow\", color=\"red\")\n",
        "king.plot(kind=\"arrow\", color=\"blue\")\n",
        "queen.plot(kind=\"arrow\", color=\"red\")"
      ],
      "execution_count": 6,
      "outputs": [
        {
          "output_type": "execute_result",
          "data": {
            "text/plain": [
              "Emb[queen]"
            ]
          },
          "metadata": {
            "tags": []
          },
          "execution_count": 6
        },
        {
          "output_type": "display_data",
          "data": {
            "image/png": "[encoded data removed]",
            "text/plain": [
              "<Figure size 432x432 with 1 Axes>"
            ]
          },
          "metadata": {
            "tags": [],
            "needs_background": "light"
          }
        }
      ]
    },
    {
      "cell_type": "code",
      "metadata": {
        "id": "ZlvBfjVc0sL2",
        "colab_type": "code",
        "colab": {
          "base_uri": "https://localhost:8080/",
          "height": 357
        },
        "outputId": "5a93e050-203e-45ac-c8b9-9e634e55908b"
      },
      "source": [
        "plt.figure(figsize=(6,6))\n",
        "\n",
        "man.plot(kind=\"arrow\", color=\"blue\")\n",
        "woman.plot(kind=\"arrow\", color=\"red\")\n",
        "king.plot(kind=\"arrow\", color=\"blue\")\n",
        "queen.plot(kind=\"arrow\", color=\"red\")\n",
        "\n",
        "(queen - king).plot(kind=\"arrow\", color=\"pink\", show_ops=True)\n",
        "(man | (queen - king)).plot(kind=\"arrow\", color=\"pink\", show_ops=True)\n",
        "\n",
        "plt.axis('off');"
      ],
      "execution_count": 7,
      "outputs": [
        {
          "output_type": "display_data",
          "data": {
            "image/png": "[encoded data removed]",
            "text/plain": [
              "<Figure size 432x432 with 1 Axes>"
            ]
          },
          "metadata": {
            "tags": [],
            "needs_background": "light"
          }
        }
      ]
    },
    {
      "cell_type": "code",
      "metadata": {
        "id": "qX8fsvUa0vMk",
        "colab_type": "code",
        "colab": {
          "base_uri": "https://localhost:8080/",
          "height": 385
        },
        "outputId": "ee64b2de-8dc3-450e-953f-95f9b7b4f53f"
      },
      "source": [
        "from whatlies import EmbeddingSet\n",
        "from whatlies.language import SpacyLanguage\n",
        "\n",
        "lang = SpacyLanguage(\"en_core_web_sm\")\n",
        "words = [\"cat\", \"dog\", \"fish\", \"kitten\", \"man\", \"woman\",\n",
        "         \"king\", \"queen\", \"doctor\", \"nurse\"]\n",
        "\n",
        "emb = EmbeddingSet(*[lang[w] for w in words])\n",
        "emb.plot_interactive(x_axis=emb[\"man\"], y_axis=emb[\"woman\"])"
      ],
      "execution_count": 8,
      "outputs": [
        {
          "output_type": "execute_result",
          "data": {
            "text/plain": [
              "alt.LayerChart(...)"
            ],
            "text/html": [
              "\n",
              "<div id=\"altair-viz-4d7859114f614e5a8ac7d476a6a408f5\"></div>\n",
              "<script type=\"text/javascript\">\n",
              "  (function(spec, embedOpt){\n",
              "    let outputDiv = document.currentScript.previousElementSibling;\n",
              "    if (outputDiv.id !== \"altair-viz-4d7859114f614e5a8ac7d476a6a408f5\") {\n",
              "      outputDiv = document.getElementById(\"altair-viz-4d7859114f614e5a8ac7d476a6a408f5\");\n",
              "    }\n",
              "    const paths = {\n",
              "      \"vega\": \"https://cdn.jsdelivr.net/npm//vega@5?noext\",\n",
              "      \"vega-lib\": \"https://cdn.jsdelivr.net/npm//vega-lib?noext\",\n",
              "      \"vega-lite\": \"https://cdn.jsdelivr.net/npm//vega-lite@4.8.1?noext\",\n",
              "      \"vega-embed\": \"https://cdn.jsdelivr.net/npm//vega-embed@6?noext\",\n",
              "    };\n",
              "\n",
              "    function loadScript(lib) {\n",
              "      return new Promise(function(resolve, reject) {\n",
              "        var s = document.createElement('script');\n",
              "        s.src = paths[lib];\n",
              "        s.async = true;\n",
              "        s.onload = () => resolve(paths[lib]);\n",
              "        s.onerror = () => reject(`Error loading script: ${paths[lib]}`);\n",
              "        document.getElementsByTagName(\"head\")[0].appendChild(s);\n",
              "      });\n",
              "    }\n",
              "\n",
              "    function showError(err) {\n",
              "      outputDiv.innerHTML = `<div class=\"error\" style=\"color:red;\">${err}</div>`;\n",
              "      throw err;\n",
              "    }\n",
              "\n",
              "    function displayChart(vegaEmbed) {\n",
              "      vegaEmbed(outputDiv, spec, embedOpt)\n",
              "        .catch(err => showError(`Javascript Error: ${err.message}<br>This usually means there's a typo in your chart specification. See the javascript console for the full traceback.`));\n",
              "    }\n",
              "\n",
              "    if(typeof define === \"function\" && define.amd) {\n",
              "      requirejs.config({paths});\n",
              "      require([\"vega-embed\"], displayChart, err => showError(`Error loading script: ${err.message}`));\n",
              "    } else if (typeof vegaEmbed === \"function\") {\n",
              "      displayChart(vegaEmbed);\n",
              "    } else {\n",
              "      loadScript(\"vega\")\n",
              "        .then(() => loadScript(\"vega-lite\"))\n",
              "        .then(() => loadScript(\"vega-embed\"))\n",
              "        .catch(showError)\n",
              "        .then(() => displayChart(vegaEmbed));\n",
              "    }\n",
              "  })({\"config\": {\"view\": {\"continuousWidth\": 400, \"continuousHeight\": 300}}, \"layer\": [{\"mark\": {\"type\": \"circle\", \"size\": 60}, \"encoding\": {\"color\": {\"type\": \"nominal\", \"field\": \"\", \"legend\": null}, \"tooltip\": [{\"type\": \"nominal\", \"field\": \"name\"}, {\"type\": \"nominal\", \"field\": \"original\"}], \"x\": {\"type\": \"quantitative\", \"axis\": {\"title\": \"man\"}, \"field\": \"x_axis\"}, \"y\": {\"type\": \"quantitative\", \"axis\": {\"title\": \"woman\"}, \"field\": \"y_axis\"}}, \"selection\": {\"selector001\": {\"type\": \"interval\", \"bind\": \"scales\", \"encodings\": [\"x\", \"y\"]}}, \"title\": \"man vs. woman\"}, {\"mark\": {\"type\": \"text\", \"color\": \"black\", \"dx\": -15, \"dy\": 3}, \"encoding\": {\"text\": {\"type\": \"nominal\", \"field\": \"original\"}, \"x\": {\"type\": \"quantitative\", \"axis\": {\"title\": \"man\"}, \"field\": \"x_axis\"}, \"y\": {\"type\": \"quantitative\", \"axis\": {\"title\": \"woman\"}, \"field\": \"y_axis\"}}}], \"data\": {\"name\": \"data-f657f27d54064571df8d84455f198bea\"}, \"$schema\": \"https://vega.github.io/schema/vega-lite/v4.8.1.json\", \"datasets\": {\"data-f657f27d54064571df8d84455f198bea\": [{\"x_axis\": 0.67951899766922, \"y_axis\": 0.5806479454040527, \"name\": \"cat\", \"original\": \"cat\"}, {\"x_axis\": 0.7637810111045837, \"y_axis\": 0.6790923476219177, \"name\": \"dog\", \"original\": \"dog\"}, {\"x_axis\": 0.5408817529678345, \"y_axis\": 0.6074932217597961, \"name\": \"fish\", \"original\": \"fish\"}, {\"x_axis\": 0.3635278046131134, \"y_axis\": 0.3660588264465332, \"name\": \"kitten\", \"original\": \"kitten\"}, {\"x_axis\": 0.6490527391433716, \"y_axis\": 0.7441394329071045, \"name\": \"king\", \"original\": \"king\"}, {\"x_axis\": 0.5417978167533875, \"y_axis\": 0.5410828590393066, \"name\": \"queen\", \"original\": \"queen\"}, {\"x_axis\": 0.5705316066741943, \"y_axis\": 0.7007007002830505, \"name\": \"doctor\", \"original\": \"doctor\"}, {\"x_axis\": 0.5481836199760437, \"y_axis\": 0.6822708249092102, \"name\": \"nurse\", \"original\": \"nurse\"}]}}, {\"mode\": \"vega-lite\"});\n",
              "</script>"
            ]
          },
          "metadata": {
            "tags": []
          },
          "execution_count": 8
        }
      ]
    },
    {
      "cell_type": "code",
      "metadata": {
        "id": "-fO2fDVl0yEw",
        "colab_type": "code",
        "colab": {
          "base_uri": "https://localhost:8080/",
          "height": 385
        },
        "outputId": "bc020db3-6540-4ee8-ae77-0fe09ed5156d"
      },
      "source": [
        "words = [\"cat\", \"dog\", \"fish\", \"kitten\", \"man\", \"woman\",\n",
        "         \"king\", \"queen\", \"doctor\", \"nurse\", \"brother\", \"sister\", \n",
        "         \"water\", \"yellow\", \"ice\", \"water\", \"steam\", \"solid\", \"liquid\", \"gas\"]\n",
        "\n",
        "emb = EmbeddingSet(*[lang[w] for w in words])\n",
        "emb.plot_interactive(x_axis=emb[\"man\"], y_axis=emb[\"woman\"])"
      ],
      "execution_count": 9,
      "outputs": [
        {
          "output_type": "execute_result",
          "data": {
            "text/plain": [
              "alt.LayerChart(...)"
            ],
            "text/html": [
              "\n",
              "<div id=\"altair-viz-284644a6d04c4128b2061ce6a2d751b7\"></div>\n",
              "<script type=\"text/javascript\">\n",
              "  (function(spec, embedOpt){\n",
              "    let outputDiv = document.currentScript.previousElementSibling;\n",
              "    if (outputDiv.id !== \"altair-viz-284644a6d04c4128b2061ce6a2d751b7\") {\n",
              "      outputDiv = document.getElementById(\"altair-viz-284644a6d04c4128b2061ce6a2d751b7\");\n",
              "    }\n",
              "    const paths = {\n",
              "      \"vega\": \"https://cdn.jsdelivr.net/npm//vega@5?noext\",\n",
              "      \"vega-lib\": \"https://cdn.jsdelivr.net/npm//vega-lib?noext\",\n",
              "      \"vega-lite\": \"https://cdn.jsdelivr.net/npm//vega-lite@4.8.1?noext\",\n",
              "      \"vega-embed\": \"https://cdn.jsdelivr.net/npm//vega-embed@6?noext\",\n",
              "    };\n",
              "\n",
              "    function loadScript(lib) {\n",
              "      return new Promise(function(resolve, reject) {\n",
              "        var s = document.createElement('script');\n",
              "        s.src = paths[lib];\n",
              "        s.async = true;\n",
              "        s.onload = () => resolve(paths[lib]);\n",
              "        s.onerror = () => reject(`Error loading script: ${paths[lib]}`);\n",
              "        document.getElementsByTagName(\"head\")[0].appendChild(s);\n",
              "      });\n",
              "    }\n",
              "\n",
              "    function showError(err) {\n",
              "      outputDiv.innerHTML = `<div class=\"error\" style=\"color:red;\">${err}</div>`;\n",
              "      throw err;\n",
              "    }\n",
              "\n",
              "    function displayChart(vegaEmbed) {\n",
              "      vegaEmbed(outputDiv, spec, embedOpt)\n",
              "        .catch(err => showError(`Javascript Error: ${err.message}<br>This usually means there's a typo in your chart specification. See the javascript console for the full traceback.`));\n",
              "    }\n",
              "\n",
              "    if(typeof define === \"function\" && define.amd) {\n",
              "      requirejs.config({paths});\n",
              "      require([\"vega-embed\"], displayChart, err => showError(`Error loading script: ${err.message}`));\n",
              "    } else if (typeof vegaEmbed === \"function\") {\n",
              "      displayChart(vegaEmbed);\n",
              "    } else {\n",
              "      loadScript(\"vega\")\n",
              "        .then(() => loadScript(\"vega-lite\"))\n",
              "        .then(() => loadScript(\"vega-embed\"))\n",
              "        .catch(showError)\n",
              "        .then(() => displayChart(vegaEmbed));\n",
              "    }\n",
              "  })({\"config\": {\"view\": {\"continuousWidth\": 400, \"continuousHeight\": 300}}, \"layer\": [{\"mark\": {\"type\": \"circle\", \"size\": 60}, \"encoding\": {\"color\": {\"type\": \"nominal\", \"field\": \"\", \"legend\": null}, \"tooltip\": [{\"type\": \"nominal\", \"field\": \"name\"}, {\"type\": \"nominal\", \"field\": \"original\"}], \"x\": {\"type\": \"quantitative\", \"axis\": {\"title\": \"man\"}, \"field\": \"x_axis\"}, \"y\": {\"type\": \"quantitative\", \"axis\": {\"title\": \"woman\"}, \"field\": \"y_axis\"}}, \"selection\": {\"selector002\": {\"type\": \"interval\", \"bind\": \"scales\", \"encodings\": [\"x\", \"y\"]}}, \"title\": \"man vs. woman\"}, {\"mark\": {\"type\": \"text\", \"color\": \"black\", \"dx\": -15, \"dy\": 3}, \"encoding\": {\"text\": {\"type\": \"nominal\", \"field\": \"original\"}, \"x\": {\"type\": \"quantitative\", \"axis\": {\"title\": \"man\"}, \"field\": \"x_axis\"}, \"y\": {\"type\": \"quantitative\", \"axis\": {\"title\": \"woman\"}, \"field\": \"y_axis\"}}}], \"data\": {\"name\": \"data-261c45a37d7d2364e0c55d80000dee03\"}, \"$schema\": \"https://vega.github.io/schema/vega-lite/v4.8.1.json\", \"datasets\": {\"data-261c45a37d7d2364e0c55d80000dee03\": [{\"x_axis\": 0.67951899766922, \"y_axis\": 0.5806479454040527, \"name\": \"cat\", \"original\": \"cat\"}, {\"x_axis\": 0.7637810111045837, \"y_axis\": 0.6790923476219177, \"name\": \"dog\", \"original\": \"dog\"}, {\"x_axis\": 0.5408817529678345, \"y_axis\": 0.6074932217597961, \"name\": \"fish\", \"original\": \"fish\"}, {\"x_axis\": 0.3635278046131134, \"y_axis\": 0.3660588264465332, \"name\": \"kitten\", \"original\": \"kitten\"}, {\"x_axis\": 0.6490527391433716, \"y_axis\": 0.7441394329071045, \"name\": \"king\", \"original\": \"king\"}, {\"x_axis\": 0.5417978167533875, \"y_axis\": 0.5410828590393066, \"name\": \"queen\", \"original\": \"queen\"}, {\"x_axis\": 0.5705316066741943, \"y_axis\": 0.7007007002830505, \"name\": \"doctor\", \"original\": \"doctor\"}, {\"x_axis\": 0.5481836199760437, \"y_axis\": 0.6822708249092102, \"name\": \"nurse\", \"original\": \"nurse\"}, {\"x_axis\": 0.6747526526451111, \"y_axis\": 0.7027508020401001, \"name\": \"brother\", \"original\": \"brother\"}, {\"x_axis\": 0.6050676107406616, \"y_axis\": 0.6876196265220642, \"name\": \"sister\", \"original\": \"sister\"}, {\"x_axis\": 0.5992181897163391, \"y_axis\": 0.7210122346878052, \"name\": \"water\", \"original\": \"water\"}, {\"x_axis\": 0.5531129240989685, \"y_axis\": 0.5124056935310364, \"name\": \"yellow\", \"original\": \"yellow\"}, {\"x_axis\": 0.5406548380851746, \"y_axis\": 0.6882584095001221, \"name\": \"ice\", \"original\": \"ice\"}, {\"x_axis\": 0.5851774215698242, \"y_axis\": 0.6064095497131348, \"name\": \"steam\", \"original\": \"steam\"}, {\"x_axis\": 0.19294260442256927, \"y_axis\": 0.31555095314979553, \"name\": \"solid\", \"original\": \"solid\"}, {\"x_axis\": 0.3413948714733124, \"y_axis\": 0.7001577615737915, \"name\": \"liquid\", \"original\": \"liquid\"}, {\"x_axis\": 0.6548981070518494, \"y_axis\": 0.769964337348938, \"name\": \"gas\", \"original\": \"gas\"}]}}, {\"mode\": \"vega-lite\"});\n",
              "</script>"
            ]
          },
          "metadata": {
            "tags": []
          },
          "execution_count": 9
        }
      ]
    },
    {
      "cell_type": "code",
      "metadata": {
        "id": "VOVFfr7k2G27",
        "colab_type": "code",
        "colab": {
          "base_uri": "https://localhost:8080/",
          "height": 385
        },
        "outputId": "446f7345-a1ef-48fe-98ad-594a685e7315"
      },
      "source": [
        "from whatlies.transformers import Pca, Umap\n",
        "\n",
        "emb.transform(Pca(2)).plot_interactive('man','woman', show_axis_point=True)"
      ],
      "execution_count": 11,
      "outputs": [
        {
          "output_type": "execute_result",
          "data": {
            "text/plain": [
              "alt.LayerChart(...)"
            ],
            "text/html": [
              "\n",
              "<div id=\"altair-viz-776d4d91608540b7b5ffd68b3487dcad\"></div>\n",
              "<script type=\"text/javascript\">\n",
              "  (function(spec, embedOpt){\n",
              "    let outputDiv = document.currentScript.previousElementSibling;\n",
              "    if (outputDiv.id !== \"altair-viz-776d4d91608540b7b5ffd68b3487dcad\") {\n",
              "      outputDiv = document.getElementById(\"altair-viz-776d4d91608540b7b5ffd68b3487dcad\");\n",
              "    }\n",
              "    const paths = {\n",
              "      \"vega\": \"https://cdn.jsdelivr.net/npm//vega@5?noext\",\n",
              "      \"vega-lib\": \"https://cdn.jsdelivr.net/npm//vega-lib?noext\",\n",
              "      \"vega-lite\": \"https://cdn.jsdelivr.net/npm//vega-lite@4.8.1?noext\",\n",
              "      \"vega-embed\": \"https://cdn.jsdelivr.net/npm//vega-embed@6?noext\",\n",
              "    };\n",
              "\n",
              "    function loadScript(lib) {\n",
              "      return new Promise(function(resolve, reject) {\n",
              "        var s = document.createElement('script');\n",
              "        s.src = paths[lib];\n",
              "        s.async = true;\n",
              "        s.onload = () => resolve(paths[lib]);\n",
              "        s.onerror = () => reject(`Error loading script: ${paths[lib]}`);\n",
              "        document.getElementsByTagName(\"head\")[0].appendChild(s);\n",
              "      });\n",
              "    }\n",
              "\n",
              "    function showError(err) {\n",
              "      outputDiv.innerHTML = `<div class=\"error\" style=\"color:red;\">${err}</div>`;\n",
              "      throw err;\n",
              "    }\n",
              "\n",
              "    function displayChart(vegaEmbed) {\n",
              "      vegaEmbed(outputDiv, spec, embedOpt)\n",
              "        .catch(err => showError(`Javascript Error: ${err.message}<br>This usually means there's a typo in your chart specification. See the javascript console for the full traceback.`));\n",
              "    }\n",
              "\n",
              "    if(typeof define === \"function\" && define.amd) {\n",
              "      requirejs.config({paths});\n",
              "      require([\"vega-embed\"], displayChart, err => showError(`Error loading script: ${err.message}`));\n",
              "    } else if (typeof vegaEmbed === \"function\") {\n",
              "      displayChart(vegaEmbed);\n",
              "    } else {\n",
              "      loadScript(\"vega\")\n",
              "        .then(() => loadScript(\"vega-lite\"))\n",
              "        .then(() => loadScript(\"vega-embed\"))\n",
              "        .catch(showError)\n",
              "        .then(() => displayChart(vegaEmbed));\n",
              "    }\n",
              "  })({\"config\": {\"view\": {\"continuousWidth\": 400, \"continuousHeight\": 300}}, \"layer\": [{\"mark\": {\"type\": \"circle\", \"size\": 60}, \"encoding\": {\"color\": {\"type\": \"nominal\", \"field\": \"\", \"legend\": null}, \"tooltip\": [{\"type\": \"nominal\", \"field\": \"name\"}, {\"type\": \"nominal\", \"field\": \"original\"}], \"x\": {\"type\": \"quantitative\", \"axis\": {\"title\": \"man\"}, \"field\": \"x_axis\"}, \"y\": {\"type\": \"quantitative\", \"axis\": {\"title\": \"woman\"}, \"field\": \"y_axis\"}}, \"selection\": {\"selector003\": {\"type\": \"interval\", \"bind\": \"scales\", \"encodings\": [\"x\", \"y\"]}}, \"title\": \"man vs. woman\"}, {\"mark\": {\"type\": \"text\", \"color\": \"black\", \"dx\": -15, \"dy\": 3}, \"encoding\": {\"text\": {\"type\": \"nominal\", \"field\": \"original\"}, \"x\": {\"type\": \"quantitative\", \"axis\": {\"title\": \"man\"}, \"field\": \"x_axis\"}, \"y\": {\"type\": \"quantitative\", \"axis\": {\"title\": \"woman\"}, \"field\": \"y_axis\"}}}], \"data\": {\"name\": \"data-a10e3cf91107d7b6b1216f8b60066438\"}, \"$schema\": \"https://vega.github.io/schema/vega-lite/v4.8.1.json\", \"datasets\": {\"data-a10e3cf91107d7b6b1216f8b60066438\": [{\"x_axis\": -0.1808486841268737, \"y_axis\": -0.0035114994247516223, \"name\": \"cat\", \"original\": \"cat\"}, {\"x_axis\": 0.9872800191504978, \"y_axis\": 1.2834619956067141, \"name\": \"dog\", \"original\": \"dog\"}, {\"x_axis\": 0.8236804768706512, \"y_axis\": 1.1011820237862846, \"name\": \"fish\", \"original\": \"fish\"}, {\"x_axis\": -2.054296503454137, \"y_axis\": -3.06816227974581, \"name\": \"kitten\", \"original\": \"kitten\"}, {\"x_axis\": 1.0, \"y_axis\": 1.3530233466547232, \"name\": \"man\", \"original\": \"man\"}, {\"x_axis\": 0.6804896890179406, \"y_axis\": 1.0, \"name\": \"woman\", \"original\": \"woman\"}, {\"x_axis\": -0.17076172103070758, \"y_axis\": 0.28682592729091694, \"name\": \"king\", \"original\": \"king\"}, {\"x_axis\": -0.10033915551722378, \"y_axis\": -0.09784569927865693, \"name\": \"queen\", \"original\": \"queen\"}, {\"x_axis\": -0.4404131381654464, \"y_axis\": -0.35585580697469815, \"name\": \"doctor\", \"original\": \"doctor\"}, {\"x_axis\": -0.48823534420637904, \"y_axis\": -0.6880027720444905, \"name\": \"nurse\", \"original\": \"nurse\"}, {\"x_axis\": 0.2565307851233179, \"y_axis\": 0.4126985165204276, \"name\": \"brother\", \"original\": \"brother\"}, {\"x_axis\": -0.4128720466996929, \"y_axis\": -0.4306809072564313, \"name\": \"sister\", \"original\": \"sister\"}, {\"x_axis\": 0.9061734879862859, \"y_axis\": 1.1811824545171834, \"name\": \"water\", \"original\": \"water\"}, {\"x_axis\": -0.5225197545523426, \"y_axis\": -1.1255005365362258, \"name\": \"yellow\", \"original\": \"yellow\"}, {\"x_axis\": 0.0878338795521986, \"y_axis\": 0.391568429557832, \"name\": \"ice\", \"original\": \"ice\"}, {\"x_axis\": -0.43458606433706976, \"y_axis\": -0.6408295462814656, \"name\": \"steam\", \"original\": \"steam\"}, {\"x_axis\": -0.5453871874281814, \"y_axis\": -1.805518345253625, \"name\": \"solid\", \"original\": \"solid\"}, {\"x_axis\": -0.5865845365423729, \"y_axis\": -0.5797991414774448, \"name\": \"liquid\", \"original\": \"liquid\"}, {\"x_axis\": 1.1948559568038395, \"y_axis\": 1.7857643275890236, \"name\": \"gas\", \"original\": \"gas\"}, {\"x_axis\": -0.10221429878355791, \"y_axis\": -0.1864821730460615, \"name\": \"pca_0\", \"original\": \"pca_0\"}, {\"x_axis\": 0.12135940479647377, \"y_axis\": 0.12361953042900392, \"name\": \"pca_1\", \"original\": \"pca_1\"}]}}, {\"mode\": \"vega-lite\"});\n",
              "</script>"
            ]
          },
          "metadata": {
            "tags": []
          },
          "execution_count": 11
        }
      ]
    },
    {
      "cell_type": "code",
      "metadata": {
        "id": "bhEnj_h_2l7X",
        "colab_type": "code",
        "colab": {
          "base_uri": "https://localhost:8080/",
          "height": 385
        },
        "outputId": "00a09688-70e9-4964-a78b-c0bc261d156d"
      },
      "source": [
        "emb.transform(Pca(2)).plot_interactive('pca_0','pca_1')"
      ],
      "execution_count": 13,
      "outputs": [
        {
          "output_type": "execute_result",
          "data": {
            "text/plain": [
              "alt.LayerChart(...)"
            ],
            "text/html": [
              "\n",
              "<div id=\"altair-viz-8417c6c73d0b4069858784a74ccdc66c\"></div>\n",
              "<script type=\"text/javascript\">\n",
              "  (function(spec, embedOpt){\n",
              "    let outputDiv = document.currentScript.previousElementSibling;\n",
              "    if (outputDiv.id !== \"altair-viz-8417c6c73d0b4069858784a74ccdc66c\") {\n",
              "      outputDiv = document.getElementById(\"altair-viz-8417c6c73d0b4069858784a74ccdc66c\");\n",
              "    }\n",
              "    const paths = {\n",
              "      \"vega\": \"https://cdn.jsdelivr.net/npm//vega@5?noext\",\n",
              "      \"vega-lib\": \"https://cdn.jsdelivr.net/npm//vega-lib?noext\",\n",
              "      \"vega-lite\": \"https://cdn.jsdelivr.net/npm//vega-lite@4.8.1?noext\",\n",
              "      \"vega-embed\": \"https://cdn.jsdelivr.net/npm//vega-embed@6?noext\",\n",
              "    };\n",
              "\n",
              "    function loadScript(lib) {\n",
              "      return new Promise(function(resolve, reject) {\n",
              "        var s = document.createElement('script');\n",
              "        s.src = paths[lib];\n",
              "        s.async = true;\n",
              "        s.onload = () => resolve(paths[lib]);\n",
              "        s.onerror = () => reject(`Error loading script: ${paths[lib]}`);\n",
              "        document.getElementsByTagName(\"head\")[0].appendChild(s);\n",
              "      });\n",
              "    }\n",
              "\n",
              "    function showError(err) {\n",
              "      outputDiv.innerHTML = `<div class=\"error\" style=\"color:red;\">${err}</div>`;\n",
              "      throw err;\n",
              "    }\n",
              "\n",
              "    function displayChart(vegaEmbed) {\n",
              "      vegaEmbed(outputDiv, spec, embedOpt)\n",
              "        .catch(err => showError(`Javascript Error: ${err.message}<br>This usually means there's a typo in your chart specification. See the javascript console for the full traceback.`));\n",
              "    }\n",
              "\n",
              "    if(typeof define === \"function\" && define.amd) {\n",
              "      requirejs.config({paths});\n",
              "      require([\"vega-embed\"], displayChart, err => showError(`Error loading script: ${err.message}`));\n",
              "    } else if (typeof vegaEmbed === \"function\") {\n",
              "      displayChart(vegaEmbed);\n",
              "    } else {\n",
              "      loadScript(\"vega\")\n",
              "        .then(() => loadScript(\"vega-lite\"))\n",
              "        .then(() => loadScript(\"vega-embed\"))\n",
              "        .catch(showError)\n",
              "        .then(() => displayChart(vegaEmbed));\n",
              "    }\n",
              "  })({\"config\": {\"view\": {\"continuousWidth\": 400, \"continuousHeight\": 300}}, \"layer\": [{\"mark\": {\"type\": \"circle\", \"size\": 60}, \"encoding\": {\"color\": {\"type\": \"nominal\", \"field\": \"\", \"legend\": null}, \"tooltip\": [{\"type\": \"nominal\", \"field\": \"name\"}, {\"type\": \"nominal\", \"field\": \"original\"}], \"x\": {\"type\": \"quantitative\", \"axis\": {\"title\": \"pca_0\"}, \"field\": \"x_axis\"}, \"y\": {\"type\": \"quantitative\", \"axis\": {\"title\": \"pca_1\"}, \"field\": \"y_axis\"}}, \"selection\": {\"selector004\": {\"type\": \"interval\", \"bind\": \"scales\", \"encodings\": [\"x\", \"y\"]}}, \"title\": \"pca_0 vs. pca_1\"}, {\"mark\": {\"type\": \"text\", \"color\": \"black\", \"dx\": -15, \"dy\": 3}, \"encoding\": {\"text\": {\"type\": \"nominal\", \"field\": \"original\"}, \"x\": {\"type\": \"quantitative\", \"axis\": {\"title\": \"pca_0\"}, \"field\": \"x_axis\"}, \"y\": {\"type\": \"quantitative\", \"axis\": {\"title\": \"pca_1\"}, \"field\": \"y_axis\"}}}], \"data\": {\"name\": \"data-42ded7454330fd02e3f688e6786dbfef\"}, \"$schema\": \"https://vega.github.io/schema/vega-lite/v4.8.1.json\", \"datasets\": {\"data-42ded7454330fd02e3f688e6786dbfef\": [{\"x_axis\": -2.1939749717712402, \"y_axis\": -3.3380544185638428, \"name\": \"cat\", \"original\": \"cat\"}, {\"x_axis\": -3.37276554107666, \"y_axis\": 5.2944817543029785, \"name\": \"dog\", \"original\": \"dog\"}, {\"x_axis\": -3.1829545497894287, \"y_axis\": 4.106290817260742, \"name\": \"fish\", \"original\": \"fish\"}, {\"x_axis\": 11.845032691955566, \"y_axis\": -6.950963497161865, \"name\": \"kitten\", \"original\": \"kitten\"}, {\"x_axis\": -4.06001091003418, \"y_axis\": 4.820465564727783, \"name\": \"man\", \"original\": \"man\"}, {\"x_axis\": -3.725367546081543, \"y_axis\": 2.4695560932159424, \"name\": \"woman\", \"original\": \"woman\"}, {\"x_axis\": -5.594266414642334, \"y_axis\": -6.118814945220947, \"name\": \"king\", \"original\": \"king\"}, {\"x_axis\": -0.05296121537685394, \"y_axis\": -0.8713997006416321, \"name\": \"queen\", \"original\": \"queen\"}, {\"x_axis\": -1.126207947731018, \"y_axis\": -4.577541351318359, \"name\": \"doctor\", \"original\": \"doctor\"}, {\"x_axis\": 2.3150179386138916, \"y_axis\": -2.073241949081421, \"name\": \"nurse\", \"original\": \"nurse\"}, {\"x_axis\": -1.8380568027496338, \"y_axis\": 0.5657171607017517, \"name\": \"brother\", \"original\": \"brother\"}, {\"x_axis\": 0.12286605685949326, \"y_axis\": -3.298577308654785, \"name\": \"sister\", \"original\": \"sister\"}, {\"x_axis\": -3.1340391635894775, \"y_axis\": 4.827230930328369, \"name\": \"water\", \"original\": \"water\"}, {\"x_axis\": 7.202753067016602, \"y_axis\": 1.7609232664108276, \"name\": \"yellow\", \"original\": \"yellow\"}, {\"x_axis\": -3.6678366661071777, \"y_axis\": -2.3654654026031494, \"name\": \"ice\", \"original\": \"ice\"}, {\"x_axis\": 2.405775547027588, \"y_axis\": -1.5547324419021606, \"name\": \"steam\", \"original\": \"steam\"}, {\"x_axis\": 15.176165580749512, \"y_axis\": 8.28805923461914, \"name\": \"solid\", \"original\": \"solid\"}, {\"x_axis\": -0.2150154709815979, \"y_axis\": -5.01454496383667, \"name\": \"liquid\", \"original\": \"liquid\"}, {\"x_axis\": -6.904157638549805, \"y_axis\": 4.030609130859375, \"name\": \"gas\", \"original\": \"gas\"}]}}, {\"mode\": \"vega-lite\"});\n",
              "</script>"
            ]
          },
          "metadata": {
            "tags": []
          },
          "execution_count": 13
        }
      ]
    },
    {
      "cell_type": "code",
      "metadata": {
        "id": "KL3p4WeW3Hgi",
        "colab_type": "code",
        "colab": {
          "base_uri": "https://localhost:8080/",
          "height": 783
        },
        "outputId": "1963e59f-dc71-4a7b-ca28-20a530f8a172"
      },
      "source": [
        "emb.transform(Pca(3)).plot_interactive_matrix('pca_0','pca_1','pca_2')"
      ],
      "execution_count": 14,
      "outputs": [
        {
          "output_type": "execute_result",
          "data": {
            "text/plain": [
              "alt.RepeatChart(...)"
            ],
            "text/html": [
              "\n",
              "<div id=\"altair-viz-dc904b8eee0344fdbd3a22c08b3d8ebc\"></div>\n",
              "<script type=\"text/javascript\">\n",
              "  (function(spec, embedOpt){\n",
              "    let outputDiv = document.currentScript.previousElementSibling;\n",
              "    if (outputDiv.id !== \"altair-viz-dc904b8eee0344fdbd3a22c08b3d8ebc\") {\n",
              "      outputDiv = document.getElementById(\"altair-viz-dc904b8eee0344fdbd3a22c08b3d8ebc\");\n",
              "    }\n",
              "    const paths = {\n",
              "      \"vega\": \"https://cdn.jsdelivr.net/npm//vega@5?noext\",\n",
              "      \"vega-lib\": \"https://cdn.jsdelivr.net/npm//vega-lib?noext\",\n",
              "      \"vega-lite\": \"https://cdn.jsdelivr.net/npm//vega-lite@4.8.1?noext\",\n",
              "      \"vega-embed\": \"https://cdn.jsdelivr.net/npm//vega-embed@6?noext\",\n",
              "    };\n",
              "\n",
              "    function loadScript(lib) {\n",
              "      return new Promise(function(resolve, reject) {\n",
              "        var s = document.createElement('script');\n",
              "        s.src = paths[lib];\n",
              "        s.async = true;\n",
              "        s.onload = () => resolve(paths[lib]);\n",
              "        s.onerror = () => reject(`Error loading script: ${paths[lib]}`);\n",
              "        document.getElementsByTagName(\"head\")[0].appendChild(s);\n",
              "      });\n",
              "    }\n",
              "\n",
              "    function showError(err) {\n",
              "      outputDiv.innerHTML = `<div class=\"error\" style=\"color:red;\">${err}</div>`;\n",
              "      throw err;\n",
              "    }\n",
              "\n",
              "    function displayChart(vegaEmbed) {\n",
              "      vegaEmbed(outputDiv, spec, embedOpt)\n",
              "        .catch(err => showError(`Javascript Error: ${err.message}<br>This usually means there's a typo in your chart specification. See the javascript console for the full traceback.`));\n",
              "    }\n",
              "\n",
              "    if(typeof define === \"function\" && define.amd) {\n",
              "      requirejs.config({paths});\n",
              "      require([\"vega-embed\"], displayChart, err => showError(`Error loading script: ${err.message}`));\n",
              "    } else if (typeof vegaEmbed === \"function\") {\n",
              "      displayChart(vegaEmbed);\n",
              "    } else {\n",
              "      loadScript(\"vega\")\n",
              "        .then(() => loadScript(\"vega-lite\"))\n",
              "        .then(() => loadScript(\"vega-embed\"))\n",
              "        .catch(showError)\n",
              "        .then(() => displayChart(vegaEmbed));\n",
              "    }\n",
              "  })({\"config\": {\"view\": {\"continuousWidth\": 400, \"continuousHeight\": 300}}, \"repeat\": {\"column\": [\"pca_0\", \"pca_1\", \"pca_2\"], \"row\": [\"pca_2\", \"pca_1\", \"pca_0\"]}, \"spec\": {\"layer\": [{\"mark\": \"circle\", \"encoding\": {\"text\": {\"type\": \"nominal\", \"field\": \"original\"}, \"tooltip\": [{\"type\": \"nominal\", \"field\": \"name\"}, {\"type\": \"nominal\", \"field\": \"original\"}], \"x\": {\"type\": \"quantitative\", \"field\": {\"repeat\": \"column\"}}, \"y\": {\"type\": \"quantitative\", \"field\": {\"repeat\": \"row\"}}}, \"selection\": {\"selector005\": {\"type\": \"interval\", \"bind\": \"scales\", \"encodings\": [\"x\", \"y\"]}}}, {\"mark\": {\"type\": \"text\", \"color\": \"black\", \"dx\": -15, \"dy\": 3}, \"encoding\": {\"text\": {\"type\": \"nominal\", \"field\": \"original\"}, \"tooltip\": [{\"type\": \"nominal\", \"field\": \"name\"}, {\"type\": \"nominal\", \"field\": \"original\"}], \"x\": {\"type\": \"quantitative\", \"field\": {\"repeat\": \"column\"}}, \"y\": {\"type\": \"quantitative\", \"field\": {\"repeat\": \"row\"}}}}], \"data\": {\"name\": \"data-362a9088cc35696ddbb8af2f5a639d71\"}, \"height\": 200, \"width\": 200}, \"$schema\": \"https://vega.github.io/schema/vega-lite/v4.8.1.json\", \"datasets\": {\"data-362a9088cc35696ddbb8af2f5a639d71\": [{\"pca_0\": -2.1939749717712402, \"pca_1\": -3.3380544185638428, \"pca_2\": -2.176119565963745, \"name\": \"cat\", \"original\": \"cat\"}, {\"pca_0\": -3.37276554107666, \"pca_1\": 5.2944817543029785, \"pca_2\": -4.033154010772705, \"name\": \"dog\", \"original\": \"dog\"}, {\"pca_0\": -3.1829545497894287, \"pca_1\": 4.106290817260742, \"pca_2\": 0.7069993615150452, \"name\": \"fish\", \"original\": \"fish\"}, {\"pca_0\": 11.845032691955566, \"pca_1\": -6.950963497161865, \"pca_2\": -6.948554515838623, \"name\": \"kitten\", \"original\": \"kitten\"}, {\"pca_0\": -4.06001091003418, \"pca_1\": 4.820465564727783, \"pca_2\": -7.874444484710693, \"name\": \"man\", \"original\": \"man\"}, {\"pca_0\": -3.725367546081543, \"pca_1\": 2.4695560932159424, \"pca_2\": 1.8690599203109741, \"name\": \"woman\", \"original\": \"woman\"}, {\"pca_0\": -5.594266414642334, \"pca_1\": -6.118814945220947, \"pca_2\": 1.4866701364517212, \"name\": \"king\", \"original\": \"king\"}, {\"pca_0\": -0.05296121537685394, \"pca_1\": -0.8713997006416321, \"pca_2\": 1.6471449136734009, \"name\": \"queen\", \"original\": \"queen\"}, {\"pca_0\": -1.126207947731018, \"pca_1\": -4.577541351318359, \"pca_2\": -2.0017330646514893, \"name\": \"doctor\", \"original\": \"doctor\"}, {\"pca_0\": 2.3150179386138916, \"pca_1\": -2.073241949081421, \"pca_2\": 1.0182747840881348, \"name\": \"nurse\", \"original\": \"nurse\"}, {\"pca_0\": -1.8380568027496338, \"pca_1\": 0.5657171607017517, \"pca_2\": -2.231407403945923, \"name\": \"brother\", \"original\": \"brother\"}, {\"pca_0\": 0.12286605685949326, \"pca_1\": -3.298577308654785, \"pca_2\": 0.8662230968475342, \"name\": \"sister\", \"original\": \"sister\"}, {\"pca_0\": -3.1340391635894775, \"pca_1\": 4.827230930328369, \"pca_2\": 1.1023049354553223, \"name\": \"water\", \"original\": \"water\"}, {\"pca_0\": 7.202753067016602, \"pca_1\": 1.7609232664108276, \"pca_2\": 1.2403230667114258, \"name\": \"yellow\", \"original\": \"yellow\"}, {\"pca_0\": -3.6678366661071777, \"pca_1\": -2.3654654026031494, \"pca_2\": 1.2105209827423096, \"name\": \"ice\", \"original\": \"ice\"}, {\"pca_0\": 2.405775547027588, \"pca_1\": -1.5547324419021606, \"pca_2\": -3.44665789604187, \"name\": \"steam\", \"original\": \"steam\"}, {\"pca_0\": 15.176165580749512, \"pca_1\": 8.28805923461914, \"pca_2\": 4.45357608795166, \"name\": \"solid\", \"original\": \"solid\"}, {\"pca_0\": -0.2150154709815979, \"pca_1\": -5.01454496383667, \"pca_2\": 10.605384826660156, \"name\": \"liquid\", \"original\": \"liquid\"}, {\"pca_0\": -6.904157638549805, \"pca_1\": 4.030609130859375, \"pca_2\": 2.505591869354248, \"name\": \"gas\", \"original\": \"gas\"}]}}, {\"mode\": \"vega-lite\"});\n",
              "</script>"
            ]
          },
          "metadata": {
            "tags": []
          },
          "execution_count": 14
        }
      ]
    },
    {
      "cell_type": "code",
      "metadata": {
        "id": "kq_DfKgz3Yhw",
        "colab_type": "code",
        "colab": {}
      },
      "source": [
        "from whatlies.transformers import Pca, Umap\n",
        "emb_pca = emb.transform(Pca(2))\n",
        "emb_umap = emb.transform(Umap(2))"
      ],
      "execution_count": 18,
      "outputs": []
    },
    {
      "cell_type": "code",
      "metadata": {
        "id": "pmopF2tP3uC3",
        "colab_type": "code",
        "colab": {
          "base_uri": "https://localhost:8080/",
          "height": 387
        },
        "outputId": "1daeeabc-160a-4d6e-c8dc-c80d9791b71c"
      },
      "source": [
        "p1 = emb_pca.plot_interactive(\"pca_0\", \"pca_1\")\n",
        "p2 = emb_umap.plot_interactive(\"umap_0\", \"umap_1\")\n",
        "\n",
        "p1 | p2"
      ],
      "execution_count": 19,
      "outputs": [
        {
          "output_type": "execute_result",
          "data": {
            "text/plain": [
              "alt.HConcatChart(...)"
            ],
            "text/html": [
              "\n",
              "<div id=\"altair-viz-544b690c645f46638c1771322f6340a4\"></div>\n",
              "<script type=\"text/javascript\">\n",
              "  (function(spec, embedOpt){\n",
              "    let outputDiv = document.currentScript.previousElementSibling;\n",
              "    if (outputDiv.id !== \"altair-viz-544b690c645f46638c1771322f6340a4\") {\n",
              "      outputDiv = document.getElementById(\"altair-viz-544b690c645f46638c1771322f6340a4\");\n",
              "    }\n",
              "    const paths = {\n",
              "      \"vega\": \"https://cdn.jsdelivr.net/npm//vega@5?noext\",\n",
              "      \"vega-lib\": \"https://cdn.jsdelivr.net/npm//vega-lib?noext\",\n",
              "      \"vega-lite\": \"https://cdn.jsdelivr.net/npm//vega-lite@4.8.1?noext\",\n",
              "      \"vega-embed\": \"https://cdn.jsdelivr.net/npm//vega-embed@6?noext\",\n",
              "    };\n",
              "\n",
              "    function loadScript(lib) {\n",
              "      return new Promise(function(resolve, reject) {\n",
              "        var s = document.createElement('script');\n",
              "        s.src = paths[lib];\n",
              "        s.async = true;\n",
              "        s.onload = () => resolve(paths[lib]);\n",
              "        s.onerror = () => reject(`Error loading script: ${paths[lib]}`);\n",
              "        document.getElementsByTagName(\"head\")[0].appendChild(s);\n",
              "      });\n",
              "    }\n",
              "\n",
              "    function showError(err) {\n",
              "      outputDiv.innerHTML = `<div class=\"error\" style=\"color:red;\">${err}</div>`;\n",
              "      throw err;\n",
              "    }\n",
              "\n",
              "    function displayChart(vegaEmbed) {\n",
              "      vegaEmbed(outputDiv, spec, embedOpt)\n",
              "        .catch(err => showError(`Javascript Error: ${err.message}<br>This usually means there's a typo in your chart specification. See the javascript console for the full traceback.`));\n",
              "    }\n",
              "\n",
              "    if(typeof define === \"function\" && define.amd) {\n",
              "      requirejs.config({paths});\n",
              "      require([\"vega-embed\"], displayChart, err => showError(`Error loading script: ${err.message}`));\n",
              "    } else if (typeof vegaEmbed === \"function\") {\n",
              "      displayChart(vegaEmbed);\n",
              "    } else {\n",
              "      loadScript(\"vega\")\n",
              "        .then(() => loadScript(\"vega-lite\"))\n",
              "        .then(() => loadScript(\"vega-embed\"))\n",
              "        .catch(showError)\n",
              "        .then(() => displayChart(vegaEmbed));\n",
              "    }\n",
              "  })({\"config\": {\"view\": {\"continuousWidth\": 400, \"continuousHeight\": 300}}, \"hconcat\": [{\"layer\": [{\"mark\": {\"type\": \"circle\", \"size\": 60}, \"encoding\": {\"color\": {\"type\": \"nominal\", \"field\": \"\", \"legend\": null}, \"tooltip\": [{\"type\": \"nominal\", \"field\": \"name\"}, {\"type\": \"nominal\", \"field\": \"original\"}], \"x\": {\"type\": \"quantitative\", \"axis\": {\"title\": \"pca_0\"}, \"field\": \"x_axis\"}, \"y\": {\"type\": \"quantitative\", \"axis\": {\"title\": \"pca_1\"}, \"field\": \"y_axis\"}}, \"selection\": {\"selector006\": {\"type\": \"interval\", \"bind\": \"scales\", \"encodings\": [\"x\", \"y\"]}}, \"title\": \"pca_0 vs. pca_1\"}, {\"mark\": {\"type\": \"text\", \"color\": \"black\", \"dx\": -15, \"dy\": 3}, \"encoding\": {\"text\": {\"type\": \"nominal\", \"field\": \"original\"}, \"x\": {\"type\": \"quantitative\", \"axis\": {\"title\": \"pca_0\"}, \"field\": \"x_axis\"}, \"y\": {\"type\": \"quantitative\", \"axis\": {\"title\": \"pca_1\"}, \"field\": \"y_axis\"}}}], \"data\": {\"name\": \"data-42ded7454330fd02e3f688e6786dbfef\"}}, {\"layer\": [{\"mark\": {\"type\": \"circle\", \"size\": 60}, \"encoding\": {\"color\": {\"type\": \"nominal\", \"field\": \"\", \"legend\": null}, \"tooltip\": [{\"type\": \"nominal\", \"field\": \"name\"}, {\"type\": \"nominal\", \"field\": \"original\"}], \"x\": {\"type\": \"quantitative\", \"axis\": {\"title\": \"umap_0\"}, \"field\": \"x_axis\"}, \"y\": {\"type\": \"quantitative\", \"axis\": {\"title\": \"umap_1\"}, \"field\": \"y_axis\"}}, \"selection\": {\"selector007\": {\"type\": \"interval\", \"bind\": \"scales\", \"encodings\": [\"x\", \"y\"]}}, \"title\": \"umap_0 vs. umap_1\"}, {\"mark\": {\"type\": \"text\", \"color\": \"black\", \"dx\": -15, \"dy\": 3}, \"encoding\": {\"text\": {\"type\": \"nominal\", \"field\": \"original\"}, \"x\": {\"type\": \"quantitative\", \"axis\": {\"title\": \"umap_0\"}, \"field\": \"x_axis\"}, \"y\": {\"type\": \"quantitative\", \"axis\": {\"title\": \"umap_1\"}, \"field\": \"y_axis\"}}}], \"data\": {\"name\": \"data-3e4ac5139ebdd76db2e49f1996198cc0\"}}], \"$schema\": \"https://vega.github.io/schema/vega-lite/v4.8.1.json\", \"datasets\": {\"data-42ded7454330fd02e3f688e6786dbfef\": [{\"x_axis\": -2.1939749717712402, \"y_axis\": -3.3380544185638428, \"name\": \"cat\", \"original\": \"cat\"}, {\"x_axis\": -3.37276554107666, \"y_axis\": 5.2944817543029785, \"name\": \"dog\", \"original\": \"dog\"}, {\"x_axis\": -3.1829545497894287, \"y_axis\": 4.106290817260742, \"name\": \"fish\", \"original\": \"fish\"}, {\"x_axis\": 11.845032691955566, \"y_axis\": -6.950963497161865, \"name\": \"kitten\", \"original\": \"kitten\"}, {\"x_axis\": -4.06001091003418, \"y_axis\": 4.820465564727783, \"name\": \"man\", \"original\": \"man\"}, {\"x_axis\": -3.725367546081543, \"y_axis\": 2.4695560932159424, \"name\": \"woman\", \"original\": \"woman\"}, {\"x_axis\": -5.594266414642334, \"y_axis\": -6.118814945220947, \"name\": \"king\", \"original\": \"king\"}, {\"x_axis\": -0.05296121537685394, \"y_axis\": -0.8713997006416321, \"name\": \"queen\", \"original\": \"queen\"}, {\"x_axis\": -1.126207947731018, \"y_axis\": -4.577541351318359, \"name\": \"doctor\", \"original\": \"doctor\"}, {\"x_axis\": 2.3150179386138916, \"y_axis\": -2.073241949081421, \"name\": \"nurse\", \"original\": \"nurse\"}, {\"x_axis\": -1.8380568027496338, \"y_axis\": 0.5657171607017517, \"name\": \"brother\", \"original\": \"brother\"}, {\"x_axis\": 0.12286605685949326, \"y_axis\": -3.298577308654785, \"name\": \"sister\", \"original\": \"sister\"}, {\"x_axis\": -3.1340391635894775, \"y_axis\": 4.827230930328369, \"name\": \"water\", \"original\": \"water\"}, {\"x_axis\": 7.202753067016602, \"y_axis\": 1.7609232664108276, \"name\": \"yellow\", \"original\": \"yellow\"}, {\"x_axis\": -3.6678366661071777, \"y_axis\": -2.3654654026031494, \"name\": \"ice\", \"original\": \"ice\"}, {\"x_axis\": 2.405775547027588, \"y_axis\": -1.5547324419021606, \"name\": \"steam\", \"original\": \"steam\"}, {\"x_axis\": 15.176165580749512, \"y_axis\": 8.28805923461914, \"name\": \"solid\", \"original\": \"solid\"}, {\"x_axis\": -0.2150154709815979, \"y_axis\": -5.01454496383667, \"name\": \"liquid\", \"original\": \"liquid\"}, {\"x_axis\": -6.904157638549805, \"y_axis\": 4.030609130859375, \"name\": \"gas\", \"original\": \"gas\"}], \"data-3e4ac5139ebdd76db2e49f1996198cc0\": [{\"x_axis\": 15.309396743774414, \"y_axis\": 17.328723907470703, \"name\": \"cat\", \"original\": \"cat\"}, {\"x_axis\": 13.600973129272461, \"y_axis\": 19.593843460083008, \"name\": \"dog\", \"original\": \"dog\"}, {\"x_axis\": 13.134710311889648, \"y_axis\": 17.999650955200195, \"name\": \"fish\", \"original\": \"fish\"}, {\"x_axis\": 14.232463836669922, \"y_axis\": 17.126296997070312, \"name\": \"kitten\", \"original\": \"kitten\"}, {\"x_axis\": 13.98633098602295, \"y_axis\": 19.13767433166504, \"name\": \"man\", \"original\": \"man\"}, {\"x_axis\": 13.510842323303223, \"y_axis\": 18.73465347290039, \"name\": \"woman\", \"original\": \"woman\"}, {\"x_axis\": 15.641331672668457, \"y_axis\": 17.853788375854492, \"name\": \"king\", \"original\": \"king\"}, {\"x_axis\": 15.452805519104004, \"y_axis\": 18.82141876220703, \"name\": \"queen\", \"original\": \"queen\"}, {\"x_axis\": 13.543631553649902, \"y_axis\": 16.870101928710938, \"name\": \"doctor\", \"original\": \"doctor\"}, {\"x_axis\": 14.662718772888184, \"y_axis\": 16.71500587463379, \"name\": \"nurse\", \"original\": \"nurse\"}, {\"x_axis\": 13.94204330444336, \"y_axis\": 18.2654972076416, \"name\": \"brother\", \"original\": \"brother\"}, {\"x_axis\": 14.688310623168945, \"y_axis\": 18.599958419799805, \"name\": \"sister\", \"original\": \"sister\"}, {\"x_axis\": 12.943326950073242, \"y_axis\": 19.158763885498047, \"name\": \"water\", \"original\": \"water\"}, {\"x_axis\": 14.768824577331543, \"y_axis\": 17.498271942138672, \"name\": \"yellow\", \"original\": \"yellow\"}, {\"x_axis\": 16.09260368347168, \"y_axis\": 18.158510208129883, \"name\": \"ice\", \"original\": \"ice\"}, {\"x_axis\": 13.712355613708496, \"y_axis\": 17.50183868408203, \"name\": \"steam\", \"original\": \"steam\"}, {\"x_axis\": 14.445426940917969, \"y_axis\": 17.827983856201172, \"name\": \"solid\", \"original\": \"solid\"}, {\"x_axis\": 15.217804908752441, \"y_axis\": 18.274703979492188, \"name\": \"liquid\", \"original\": \"liquid\"}, {\"x_axis\": 12.830901145935059, \"y_axis\": 18.542160034179688, \"name\": \"gas\", \"original\": \"gas\"}]}}, {\"mode\": \"vega-lite\"});\n",
              "</script>"
            ]
          },
          "metadata": {
            "tags": []
          },
          "execution_count": 19
        }
      ]
    },
    {
      "cell_type": "code",
      "metadata": {
        "id": "MNys6xWP3-ke",
        "colab_type": "code",
        "colab": {}
      },
      "source": [
        "from whatlies.transformers import Pca, Umap\n",
        "\n",
        "words1 = [\"dog\", \"cat\", \"mouse\", \"deer\", \"elephant\", \"zebra\", \"fish\", \n",
        "          \"rabbit\", \"rat\", \"tomato\", \"banana\", \"coffee\", \"tea\", \"apple\", \"union\"]\n",
        "words2 = [\"run\", \"swim\", \"dance\", \"sit\", \"eat\", \"hear\", \"look\", \"run\", \"stand\"]"
      ],
      "execution_count": 20,
      "outputs": []
    },
    {
      "cell_type": "code",
      "metadata": {
        "id": "imDpFmf24tS3",
        "colab_type": "code",
        "colab": {}
      },
      "source": [
        "umap = Umap(2)"
      ],
      "execution_count": 21,
      "outputs": []
    },
    {
      "cell_type": "code",
      "metadata": {
        "id": "eTo9HXRv4vB-",
        "colab_type": "code",
        "colab": {
          "base_uri": "https://localhost:8080/",
          "height": 385
        },
        "outputId": "4dab0fb0-2d59-4844-f7bf-a19f23a38024"
      },
      "source": [
        "emb1 = lang[words1].transform(umap)\n",
        "emb2 = lang[words2].transform(umap)\n",
        "both = emb1.merge(emb2)\n",
        "\n",
        "both.plot_interactive('umap_0', 'umap_1')"
      ],
      "execution_count": 23,
      "outputs": [
        {
          "output_type": "execute_result",
          "data": {
            "text/plain": [
              "alt.LayerChart(...)"
            ],
            "text/html": [
              "\n",
              "<div id=\"altair-viz-dd2a9ba11eec45238e2bd3fd9e328b82\"></div>\n",
              "<script type=\"text/javascript\">\n",
              "  (function(spec, embedOpt){\n",
              "    let outputDiv = document.currentScript.previousElementSibling;\n",
              "    if (outputDiv.id !== \"altair-viz-dd2a9ba11eec45238e2bd3fd9e328b82\") {\n",
              "      outputDiv = document.getElementById(\"altair-viz-dd2a9ba11eec45238e2bd3fd9e328b82\");\n",
              "    }\n",
              "    const paths = {\n",
              "      \"vega\": \"https://cdn.jsdelivr.net/npm//vega@5?noext\",\n",
              "      \"vega-lib\": \"https://cdn.jsdelivr.net/npm//vega-lib?noext\",\n",
              "      \"vega-lite\": \"https://cdn.jsdelivr.net/npm//vega-lite@4.8.1?noext\",\n",
              "      \"vega-embed\": \"https://cdn.jsdelivr.net/npm//vega-embed@6?noext\",\n",
              "    };\n",
              "\n",
              "    function loadScript(lib) {\n",
              "      return new Promise(function(resolve, reject) {\n",
              "        var s = document.createElement('script');\n",
              "        s.src = paths[lib];\n",
              "        s.async = true;\n",
              "        s.onload = () => resolve(paths[lib]);\n",
              "        s.onerror = () => reject(`Error loading script: ${paths[lib]}`);\n",
              "        document.getElementsByTagName(\"head\")[0].appendChild(s);\n",
              "      });\n",
              "    }\n",
              "\n",
              "    function showError(err) {\n",
              "      outputDiv.innerHTML = `<div class=\"error\" style=\"color:red;\">${err}</div>`;\n",
              "      throw err;\n",
              "    }\n",
              "\n",
              "    function displayChart(vegaEmbed) {\n",
              "      vegaEmbed(outputDiv, spec, embedOpt)\n",
              "        .catch(err => showError(`Javascript Error: ${err.message}<br>This usually means there's a typo in your chart specification. See the javascript console for the full traceback.`));\n",
              "    }\n",
              "\n",
              "    if(typeof define === \"function\" && define.amd) {\n",
              "      requirejs.config({paths});\n",
              "      require([\"vega-embed\"], displayChart, err => showError(`Error loading script: ${err.message}`));\n",
              "    } else if (typeof vegaEmbed === \"function\") {\n",
              "      displayChart(vegaEmbed);\n",
              "    } else {\n",
              "      loadScript(\"vega\")\n",
              "        .then(() => loadScript(\"vega-lite\"))\n",
              "        .then(() => loadScript(\"vega-embed\"))\n",
              "        .catch(showError)\n",
              "        .then(() => displayChart(vegaEmbed));\n",
              "    }\n",
              "  })({\"config\": {\"view\": {\"continuousWidth\": 400, \"continuousHeight\": 300}}, \"layer\": [{\"mark\": {\"type\": \"circle\", \"size\": 60}, \"encoding\": {\"color\": {\"type\": \"nominal\", \"field\": \"\", \"legend\": null}, \"tooltip\": [{\"type\": \"nominal\", \"field\": \"name\"}, {\"type\": \"nominal\", \"field\": \"original\"}], \"x\": {\"type\": \"quantitative\", \"axis\": {\"title\": \"umap_0\"}, \"field\": \"x_axis\"}, \"y\": {\"type\": \"quantitative\", \"axis\": {\"title\": \"umap_1\"}, \"field\": \"y_axis\"}}, \"selection\": {\"selector008\": {\"type\": \"interval\", \"bind\": \"scales\", \"encodings\": [\"x\", \"y\"]}}, \"title\": \"umap_0 vs. umap_1\"}, {\"mark\": {\"type\": \"text\", \"color\": \"black\", \"dx\": -15, \"dy\": 3}, \"encoding\": {\"text\": {\"type\": \"nominal\", \"field\": \"original\"}, \"x\": {\"type\": \"quantitative\", \"axis\": {\"title\": \"umap_0\"}, \"field\": \"x_axis\"}, \"y\": {\"type\": \"quantitative\", \"axis\": {\"title\": \"umap_1\"}, \"field\": \"y_axis\"}}}], \"data\": {\"name\": \"data-a92e8eaeb287efae46619a0e680b02f4\"}, \"$schema\": \"https://vega.github.io/schema/vega-lite/v4.8.1.json\", \"datasets\": {\"data-a92e8eaeb287efae46619a0e680b02f4\": [{\"x_axis\": -1.6008120775222778, \"y_axis\": 10.550498008728027, \"name\": \"dog\", \"original\": \"dog\"}, {\"x_axis\": -2.318117618560791, \"y_axis\": 8.326879501342773, \"name\": \"cat\", \"original\": \"cat\"}, {\"x_axis\": -1.2436985969543457, \"y_axis\": 8.461103439331055, \"name\": \"mouse\", \"original\": \"mouse\"}, {\"x_axis\": -0.4422273337841034, \"y_axis\": 10.716389656066895, \"name\": \"deer\", \"original\": \"deer\"}, {\"x_axis\": -0.7290235161781311, \"y_axis\": 7.941132545471191, \"name\": \"elephant\", \"original\": \"elephant\"}, {\"x_axis\": -1.7561595439910889, \"y_axis\": 8.944021224975586, \"name\": \"zebra\", \"original\": \"zebra\"}, {\"x_axis\": 0.07875845581293106, \"y_axis\": 9.403817176818848, \"name\": \"fish\", \"original\": \"fish\"}, {\"x_axis\": 0.20997944474220276, \"y_axis\": 10.213850021362305, \"name\": \"rabbit\", \"original\": \"rabbit\"}, {\"x_axis\": -1.2632356882095337, \"y_axis\": 9.973651885986328, \"name\": \"rat\", \"original\": \"rat\"}, {\"x_axis\": -2.3937578201293945, \"y_axis\": 9.711105346679688, \"name\": \"tomato\", \"original\": \"tomato\"}, {\"x_axis\": -0.9640239477157593, \"y_axis\": 9.244427680969238, \"name\": \"banana\", \"original\": \"banana\"}, {\"x_axis\": -0.33889240026474, \"y_axis\": 9.84290599822998, \"name\": \"coffee\", \"original\": \"coffee\"}, {\"x_axis\": -1.8145862817764282, \"y_axis\": 9.920746803283691, \"name\": \"tea\", \"original\": \"tea\"}, {\"x_axis\": -2.295395612716675, \"y_axis\": 9.015880584716797, \"name\": \"apple\", \"original\": \"apple\"}, {\"x_axis\": -0.4442697763442993, \"y_axis\": 8.559892654418945, \"name\": \"union\", \"original\": \"union\"}, {\"x_axis\": -1.0351377725601196, \"y_axis\": 11.65107536315918, \"name\": \"run\", \"original\": \"run\"}, {\"x_axis\": -2.3258469104766846, \"y_axis\": 11.24429702758789, \"name\": \"swim\", \"original\": \"swim\"}, {\"x_axis\": 1.1990622282028198, \"y_axis\": 9.273236274719238, \"name\": \"dance\", \"original\": \"dance\"}, {\"x_axis\": -3.0297999382019043, \"y_axis\": 10.657461166381836, \"name\": \"sit\", \"original\": \"sit\"}, {\"x_axis\": -1.7020221948623657, \"y_axis\": 11.604697227478027, \"name\": \"eat\", \"original\": \"eat\"}, {\"x_axis\": -2.6603775024414062, \"y_axis\": 11.091865539550781, \"name\": \"hear\", \"original\": \"hear\"}, {\"x_axis\": -2.8028788566589355, \"y_axis\": 10.875712394714355, \"name\": \"look\", \"original\": \"look\"}, {\"x_axis\": -2.854288339614868, \"y_axis\": 10.877494812011719, \"name\": \"stand\", \"original\": \"stand\"}]}}, {\"mode\": \"vega-lite\"});\n",
              "</script>"
            ]
          },
          "metadata": {
            "tags": []
          },
          "execution_count": 23
        }
      ]
    },
    {
      "cell_type": "code",
      "metadata": {
        "id": "9LM6EnLz4-4_",
        "colab_type": "code",
        "colab": {
          "base_uri": "https://localhost:8080/",
          "height": 385
        },
        "outputId": "0674aa61-b182-4cbc-b526-617bc780864d"
      },
      "source": [
        "emb1 = lang[words1].transform(umap).add_property('group', lambda d: 'group-one')\n",
        "emb2 = lang[words2].transform(umap).add_property('group', lambda d: 'group-two')\n",
        "both = emb1.merge(emb2)\n",
        "\n",
        "both.plot_interactive('umap_0', 'umap_1', color='group')"
      ],
      "execution_count": 24,
      "outputs": [
        {
          "output_type": "execute_result",
          "data": {
            "text/plain": [
              "alt.LayerChart(...)"
            ],
            "text/html": [
              "\n",
              "<div id=\"altair-viz-78c176758f584e818b29315f92873fb0\"></div>\n",
              "<script type=\"text/javascript\">\n",
              "  (function(spec, embedOpt){\n",
              "    let outputDiv = document.currentScript.previousElementSibling;\n",
              "    if (outputDiv.id !== \"altair-viz-78c176758f584e818b29315f92873fb0\") {\n",
              "      outputDiv = document.getElementById(\"altair-viz-78c176758f584e818b29315f92873fb0\");\n",
              "    }\n",
              "    const paths = {\n",
              "      \"vega\": \"https://cdn.jsdelivr.net/npm//vega@5?noext\",\n",
              "      \"vega-lib\": \"https://cdn.jsdelivr.net/npm//vega-lib?noext\",\n",
              "      \"vega-lite\": \"https://cdn.jsdelivr.net/npm//vega-lite@4.8.1?noext\",\n",
              "      \"vega-embed\": \"https://cdn.jsdelivr.net/npm//vega-embed@6?noext\",\n",
              "    };\n",
              "\n",
              "    function loadScript(lib) {\n",
              "      return new Promise(function(resolve, reject) {\n",
              "        var s = document.createElement('script');\n",
              "        s.src = paths[lib];\n",
              "        s.async = true;\n",
              "        s.onload = () => resolve(paths[lib]);\n",
              "        s.onerror = () => reject(`Error loading script: ${paths[lib]}`);\n",
              "        document.getElementsByTagName(\"head\")[0].appendChild(s);\n",
              "      });\n",
              "    }\n",
              "\n",
              "    function showError(err) {\n",
              "      outputDiv.innerHTML = `<div class=\"error\" style=\"color:red;\">${err}</div>`;\n",
              "      throw err;\n",
              "    }\n",
              "\n",
              "    function displayChart(vegaEmbed) {\n",
              "      vegaEmbed(outputDiv, spec, embedOpt)\n",
              "        .catch(err => showError(`Javascript Error: ${err.message}<br>This usually means there's a typo in your chart specification. See the javascript console for the full traceback.`));\n",
              "    }\n",
              "\n",
              "    if(typeof define === \"function\" && define.amd) {\n",
              "      requirejs.config({paths});\n",
              "      require([\"vega-embed\"], displayChart, err => showError(`Error loading script: ${err.message}`));\n",
              "    } else if (typeof vegaEmbed === \"function\") {\n",
              "      displayChart(vegaEmbed);\n",
              "    } else {\n",
              "      loadScript(\"vega\")\n",
              "        .then(() => loadScript(\"vega-lite\"))\n",
              "        .then(() => loadScript(\"vega-embed\"))\n",
              "        .catch(showError)\n",
              "        .then(() => displayChart(vegaEmbed));\n",
              "    }\n",
              "  })({\"config\": {\"view\": {\"continuousWidth\": 400, \"continuousHeight\": 300}}, \"layer\": [{\"mark\": {\"type\": \"circle\", \"size\": 60}, \"encoding\": {\"color\": {\"type\": \"nominal\", \"field\": \"group\"}, \"tooltip\": [{\"type\": \"nominal\", \"field\": \"name\"}, {\"type\": \"nominal\", \"field\": \"original\"}], \"x\": {\"type\": \"quantitative\", \"axis\": {\"title\": \"umap_0\"}, \"field\": \"x_axis\"}, \"y\": {\"type\": \"quantitative\", \"axis\": {\"title\": \"umap_1\"}, \"field\": \"y_axis\"}}, \"selection\": {\"selector009\": {\"type\": \"interval\", \"bind\": \"scales\", \"encodings\": [\"x\", \"y\"]}}, \"title\": \"umap_0 vs. umap_1\"}, {\"mark\": {\"type\": \"text\", \"color\": \"black\", \"dx\": -15, \"dy\": 3}, \"encoding\": {\"text\": {\"type\": \"nominal\", \"field\": \"original\"}, \"x\": {\"type\": \"quantitative\", \"axis\": {\"title\": \"umap_0\"}, \"field\": \"x_axis\"}, \"y\": {\"type\": \"quantitative\", \"axis\": {\"title\": \"umap_1\"}, \"field\": \"y_axis\"}}}], \"data\": {\"name\": \"data-305c3e1987f5f3f84927221e4062a100\"}, \"$schema\": \"https://vega.github.io/schema/vega-lite/v4.8.1.json\", \"datasets\": {\"data-305c3e1987f5f3f84927221e4062a100\": [{\"x_axis\": -1.6008120775222778, \"y_axis\": 10.550498008728027, \"name\": \"dog\", \"original\": \"dog\", \"group\": \"group-one\"}, {\"x_axis\": -2.318117618560791, \"y_axis\": 8.326879501342773, \"name\": \"cat\", \"original\": \"cat\", \"group\": \"group-one\"}, {\"x_axis\": -1.2436985969543457, \"y_axis\": 8.461103439331055, \"name\": \"mouse\", \"original\": \"mouse\", \"group\": \"group-one\"}, {\"x_axis\": -0.4422273337841034, \"y_axis\": 10.716389656066895, \"name\": \"deer\", \"original\": \"deer\", \"group\": \"group-one\"}, {\"x_axis\": -0.7290235161781311, \"y_axis\": 7.941132545471191, \"name\": \"elephant\", \"original\": \"elephant\", \"group\": \"group-one\"}, {\"x_axis\": -1.7561595439910889, \"y_axis\": 8.944021224975586, \"name\": \"zebra\", \"original\": \"zebra\", \"group\": \"group-one\"}, {\"x_axis\": 0.07875845581293106, \"y_axis\": 9.403817176818848, \"name\": \"fish\", \"original\": \"fish\", \"group\": \"group-one\"}, {\"x_axis\": 0.20997944474220276, \"y_axis\": 10.213850021362305, \"name\": \"rabbit\", \"original\": \"rabbit\", \"group\": \"group-one\"}, {\"x_axis\": -1.2632356882095337, \"y_axis\": 9.973651885986328, \"name\": \"rat\", \"original\": \"rat\", \"group\": \"group-one\"}, {\"x_axis\": -2.3937578201293945, \"y_axis\": 9.711105346679688, \"name\": \"tomato\", \"original\": \"tomato\", \"group\": \"group-one\"}, {\"x_axis\": -0.9640239477157593, \"y_axis\": 9.244427680969238, \"name\": \"banana\", \"original\": \"banana\", \"group\": \"group-one\"}, {\"x_axis\": -0.33889240026474, \"y_axis\": 9.84290599822998, \"name\": \"coffee\", \"original\": \"coffee\", \"group\": \"group-one\"}, {\"x_axis\": -1.8145862817764282, \"y_axis\": 9.920746803283691, \"name\": \"tea\", \"original\": \"tea\", \"group\": \"group-one\"}, {\"x_axis\": -2.295395612716675, \"y_axis\": 9.015880584716797, \"name\": \"apple\", \"original\": \"apple\", \"group\": \"group-one\"}, {\"x_axis\": -0.4442697763442993, \"y_axis\": 8.559892654418945, \"name\": \"union\", \"original\": \"union\", \"group\": \"group-one\"}, {\"x_axis\": -1.0786969661712646, \"y_axis\": 11.734420776367188, \"name\": \"run\", \"original\": \"run\", \"group\": \"group-two\"}, {\"x_axis\": 1.1149684190750122, \"y_axis\": 9.115633964538574, \"name\": \"swim\", \"original\": \"swim\", \"group\": \"group-two\"}, {\"x_axis\": -2.624530792236328, \"y_axis\": 11.084013938903809, \"name\": \"dance\", \"original\": \"dance\", \"group\": \"group-two\"}, {\"x_axis\": -3.1446475982666016, \"y_axis\": 10.537726402282715, \"name\": \"sit\", \"original\": \"sit\", \"group\": \"group-two\"}, {\"x_axis\": 1.2560328245162964, \"y_axis\": 9.808731079101562, \"name\": \"eat\", \"original\": \"eat\", \"group\": \"group-two\"}, {\"x_axis\": -2.566879987716675, \"y_axis\": 11.1226167678833, \"name\": \"hear\", \"original\": \"hear\", \"group\": \"group-two\"}, {\"x_axis\": -2.6170361042022705, \"y_axis\": 11.091425895690918, \"name\": \"look\", \"original\": \"look\", \"group\": \"group-two\"}, {\"x_axis\": -1.988206386566162, \"y_axis\": 7.267707824707031, \"name\": \"stand\", \"original\": \"stand\", \"group\": \"group-two\"}]}}, {\"mode\": \"vega-lite\"});\n",
              "</script>"
            ]
          },
          "metadata": {
            "tags": []
          },
          "execution_count": 24
        }
      ]
    }
  ]
}